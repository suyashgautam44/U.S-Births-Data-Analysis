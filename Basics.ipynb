{
 "cells": [
  {
   "cell_type": "code",
   "execution_count": 1,
   "metadata": {
    "collapsed": false
   },
   "outputs": [
    {
     "name": "stdout",
     "output_type": "stream",
     "text": [
      "Here is the data set split into rows\n",
      "['1994,1,1,6,8096', '1994,1,2,7,7772', '1994,1,3,1,10142', '1994,1,4,2,11248', '1994,1,5,3,11053', '1994,1,6,4,11406', '1994,1,7,5,11251', '1994,1,8,6,8653', '1994,1,9,7,7910', '1994,1,10,1,10498']\n",
      "\n",
      "Here is the final list converted to integers\n",
      "[[1994, 1, 1, 6, 8096], [1994, 1, 2, 7, 7772], [1994, 1, 3, 1, 10142], [1994, 1, 4, 2, 11248], [1994, 1, 5, 3, 11053], [1994, 1, 6, 4, 11406], [1994, 1, 7, 5, 11251], [1994, 1, 8, 6, 8653], [1994, 1, 9, 7, 7910], [1994, 1, 10, 1, 10498]]\n"
     ]
    }
   ],
   "source": [
    "##U.S Births Data Analysis\n",
    "#Step 1. \n",
    "#Read the CSV file \"US_births_1994-2003_CDC_NCHS.csv\" into a string.\n",
    "#Split the string on the newline character (\"\\n\").\n",
    "#Remove headers\n",
    "#Convert one large string list into list of lists\n",
    "#Convert each list into integer\n",
    "def read_csv(filename):\n",
    "    f = open(filename)\n",
    "    r = f.read()\n",
    "    string_list = r.split(\"\\n\")[1:]\n",
    "    string_list[1:10]\n",
    "    print(\"Here is the data set split into rows\")\n",
    "    print(string_list[0:10])\n",
    "    print (\"\")\n",
    "    print (\"Here is the final list converted to integers\")\n",
    "    final_list = []\n",
    "    for str in string_list:\n",
    "        int_fields = []\n",
    "        x = str.split(',')\n",
    "        for i in x:\n",
    "            int_fields.append(int(i))\n",
    "        final_list.append(int_fields)\n",
    "    return final_list\n",
    "    \n",
    "cdc_list = read_csv(\"US_births_1994-2003_CDC_NCHS.csv\")  \n",
    "print(cdc_list[0:10])\n",
    "        \n",
    "            \n",
    "            \n"
   ]
  },
  {
   "cell_type": "code",
   "execution_count": 2,
   "metadata": {
    "collapsed": false
   },
   "outputs": [
    {
     "name": "stdout",
     "output_type": "stream",
     "text": [
      "{1: 3232517, 2: 3018140, 3: 3322069, 4: 3185314, 5: 3350907, 6: 3296530, 7: 3498783, 8: 3525858, 9: 3439698, 10: 3378814, 11: 3171647, 12: 3301860}\n"
     ]
    }
   ],
   "source": [
    "#Now that the data is in a more usable format, we can start to analyze it. \n",
    "#Let's calculate the total number of births that occured in each month, across \n",
    "#all of the years in the dataset. We'll create a dictionary where each key is a \n",
    "#unique month and each value is the number of births that happened in that month,\n",
    "#across all years:\n",
    "\n",
    "\n",
    "def month_births(inputlist):\n",
    "    bpm = {}\n",
    "    for eachlst in inputlist:\n",
    "        m = eachlst[1]\n",
    "        b = eachlst[4]\n",
    "        if m not in bpm:\n",
    "            bpm[m] = b\n",
    "        else:\n",
    "            bpm[m] += b\n",
    "    return bpm\n",
    "\n",
    "cdc_month_births = month_births(cdc_list)\n",
    "print(cdc_month_births)  \n"
   ]
  },
  {
   "cell_type": "code",
   "execution_count": 3,
   "metadata": {
    "collapsed": false
   },
   "outputs": [
    {
     "name": "stdout",
     "output_type": "stream",
     "text": [
      "{1: 5789166, 2: 6446196, 3: 6322855, 4: 6288429, 5: 6233657, 6: 4562111, 7: 4079723}\n"
     ]
    }
   ],
   "source": [
    "#Let's now create a function that calculates the total number of births for \n",
    "#each unique day of the week. \n",
    "def dow_births(inputlist):\n",
    "    dow = {}\n",
    "    for eachlst in inputlist:\n",
    "        d = eachlst[3]\n",
    "        b = eachlst[4]\n",
    "        if d not in dow:\n",
    "            dow[d] = b\n",
    "        else:\n",
    "            dow[d] += b\n",
    "    return dow\n",
    "\n",
    "cdc_day_births = dow_births(cdc_list)\n",
    "print(cdc_day_births) \n",
    "    \n",
    "\n"
   ]
  },
  {
   "cell_type": "code",
   "execution_count": 4,
   "metadata": {
    "collapsed": false
   },
   "outputs": [
    {
     "name": "stdout",
     "output_type": "stream",
     "text": [
      "\n",
      "Births total by year\n",
      "{2000: 4058814, 2001: 4025933, 2002: 4021726, 2003: 4089950, 1994: 3952767, 1995: 3899589, 1996: 3891494, 1997: 3880894, 1998: 3941553, 1999: 3959417}\n",
      "\n",
      "Births total by month\n",
      "{1: 3232517, 2: 3018140, 3: 3322069, 4: 3185314, 5: 3350907, 6: 3296530, 7: 3498783, 8: 3525858, 9: 3439698, 10: 3378814, 11: 3171647, 12: 3301860}\n",
      "\n",
      "Births total by day of month\n",
      "{1: 1276557, 2: 1288739, 3: 1304499, 4: 1288154, 5: 1299953, 6: 1304474, 7: 1310459, 8: 1312297, 9: 1303292, 10: 1320764, 11: 1314361, 12: 1318437, 13: 1277684, 14: 1320153, 15: 1319171, 16: 1315192, 17: 1324953, 18: 1326855, 19: 1318727, 20: 1324821, 21: 1322897, 22: 1317381, 23: 1293290, 24: 1288083, 25: 1272116, 26: 1284796, 27: 1294395, 28: 1307685, 29: 1223161, 30: 1202095, 31: 746696}\n",
      "\n",
      "Births total by day of week\n",
      "{1: 5789166, 2: 6446196, 3: 6322855, 4: 6288429, 5: 6233657, 6: 4562111, 7: 4079723}\n"
     ]
    }
   ],
   "source": [
    "def calc_counts(inputlist, column):\n",
    "    dc= {}\n",
    "    for eachlst in inputlist:\n",
    "        x = eachlst[column]\n",
    "        b = eachlst[4]\n",
    "        if x not in dc:\n",
    "            dc[x] = b\n",
    "        else:\n",
    "            dc[x] += b\n",
    "    return dc\n",
    "   \n",
    "cdc_year_births = calc_counts(cdc_list, 0)   \n",
    "cdc_months_births = calc_counts(cdc_list, 1)\n",
    "cdc_dom_births = calc_counts(cdc_list, 2)\n",
    "cdc_dow_births = calc_counts(cdc_list, 3)\n",
    "print(\"\")\n",
    "print(\"Births total by year\")\n",
    "print(cdc_year_births)\n",
    "print(\"\")\n",
    "print(\"Births total by month\")\n",
    "print(cdc_months_births)\n",
    "print(\"\")\n",
    "print(\"Births total by day of month\")\n",
    "print(cdc_dom_births)\n",
    "print(\"\")\n",
    "print(\"Births total by day of week\")\n",
    "print(cdc_dow_births)\n",
    "      \n"
   ]
  },
  {
   "cell_type": "code",
   "execution_count": 5,
   "metadata": {
    "collapsed": false,
    "scrolled": true
   },
   "outputs": [
    {
     "name": "stdout",
     "output_type": "stream",
     "text": [
      "\n",
      "Min and Max Births total by year\n",
      "(3880894, 4089950)\n",
      "\n",
      "Min and Max Births total by month\n",
      "(3018140, 3525858)\n",
      "\n",
      "Min and Max Births total by day of month\n",
      "(746696, 1326855)\n",
      "\n",
      "Min and Max Births total by day of week\n",
      "(4079723, 6446196)\n"
     ]
    }
   ],
   "source": [
    "#Write a function that can calculate the min and max values for any dictionary \n",
    "#that's passed in.\n",
    "\n",
    "def calc_counts(inputlist, column):\n",
    "    dc= {}\n",
    "    for eachlst in inputlist:\n",
    "        x = eachlst[column]\n",
    "        b = eachlst[4]\n",
    "        if x not in dc:\n",
    "            dc[x] = b\n",
    "        else:\n",
    "            dc[x] += b\n",
    "    return min(dc.values()), max(dc.values())\n",
    "   \n",
    "cdc_year_births = calc_counts(cdc_list, 0)   \n",
    "cdc_months_births = calc_counts(cdc_list, 1)\n",
    "cdc_dom_births = calc_counts(cdc_list, 2)\n",
    "cdc_dow_births = calc_counts(cdc_list, 3)\n",
    "\n",
    "print(\"\")\n",
    "print(\"Min and Max Births total by year\")\n",
    "print(cdc_year_births)\n",
    "print(\"\")\n",
    "print(\"Min and Max Births total by month\")\n",
    "print(cdc_months_births)\n",
    "print(\"\")\n",
    "print(\"Min and Max Births total by day of month\")\n",
    "print(cdc_dom_births)\n",
    "print(\"\")\n",
    "print(\"Min and Max Births total by day of week\")\n",
    "print(cdc_dow_births)\n",
    "      \n"
   ]
  },
  {
   "cell_type": "code",
   "execution_count": null,
   "metadata": {
    "collapsed": true
   },
   "outputs": [],
   "source": []
  }
 ],
 "metadata": {
  "anaconda-cloud": {},
  "kernelspec": {
   "display_name": "Python 3",
   "language": "python",
   "name": "python3"
  },
  "language_info": {
   "codemirror_mode": {
    "name": "ipython",
    "version": 3
   },
   "file_extension": ".py",
   "mimetype": "text/x-python",
   "name": "python",
   "nbconvert_exporter": "python",
   "pygments_lexer": "ipython3",
   "version": "3.4.3"
  }
 },
 "nbformat": 4,
 "nbformat_minor": 1
}
